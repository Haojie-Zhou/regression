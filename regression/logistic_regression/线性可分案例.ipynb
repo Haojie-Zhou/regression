{
 "cells": [
  {
   "cell_type": "markdown",
   "metadata": {},
   "source": [
    "## 逻辑回归-线性可分\n",
    "### 案例：根据学生的两门学生成绩，预测该学生是否会被大学录取\n",
    "#### 数据集：ex2data1.txt"
   ]
  },
  {
   "cell_type": "code",
   "execution_count": 1,
   "metadata": {},
   "outputs": [],
   "source": [
    "import numpy as np\n",
    "import pandas as pd\n",
    "import matplotlib.pyplot as plt"
   ]
  },
  {
   "cell_type": "code",
   "execution_count": 2,
   "metadata": {},
   "outputs": [
    {
     "data": {
      "text/html": [
       "<div>\n",
       "<style scoped>\n",
       "    .dataframe tbody tr th:only-of-type {\n",
       "        vertical-align: middle;\n",
       "    }\n",
       "\n",
       "    .dataframe tbody tr th {\n",
       "        vertical-align: top;\n",
       "    }\n",
       "\n",
       "    .dataframe thead th {\n",
       "        text-align: right;\n",
       "    }\n",
       "</style>\n",
       "<table border=\"1\" class=\"dataframe\">\n",
       "  <thead>\n",
       "    <tr style=\"text-align: right;\">\n",
       "      <th></th>\n",
       "      <th>Exam 1</th>\n",
       "      <th>Exam 2</th>\n",
       "      <th>Accepted</th>\n",
       "    </tr>\n",
       "  </thead>\n",
       "  <tbody>\n",
       "    <tr>\n",
       "      <th>0</th>\n",
       "      <td>34.623660</td>\n",
       "      <td>78.024693</td>\n",
       "      <td>0</td>\n",
       "    </tr>\n",
       "    <tr>\n",
       "      <th>1</th>\n",
       "      <td>30.286711</td>\n",
       "      <td>43.894998</td>\n",
       "      <td>0</td>\n",
       "    </tr>\n",
       "    <tr>\n",
       "      <th>2</th>\n",
       "      <td>35.847409</td>\n",
       "      <td>72.902198</td>\n",
       "      <td>0</td>\n",
       "    </tr>\n",
       "    <tr>\n",
       "      <th>3</th>\n",
       "      <td>60.182599</td>\n",
       "      <td>86.308552</td>\n",
       "      <td>1</td>\n",
       "    </tr>\n",
       "    <tr>\n",
       "      <th>4</th>\n",
       "      <td>79.032736</td>\n",
       "      <td>75.344376</td>\n",
       "      <td>1</td>\n",
       "    </tr>\n",
       "  </tbody>\n",
       "</table>\n",
       "</div>"
      ],
      "text/plain": [
       "      Exam 1     Exam 2  Accepted\n",
       "0  34.623660  78.024693         0\n",
       "1  30.286711  43.894998         0\n",
       "2  35.847409  72.902198         0\n",
       "3  60.182599  86.308552         1\n",
       "4  79.032736  75.344376         1"
      ]
     },
     "execution_count": 2,
     "metadata": {},
     "output_type": "execute_result"
    }
   ],
   "source": [
    "path = 'ex2data1.txt'\n",
    "data = pd.read_csv(path, names=['Exam 1', 'Exam 2', 'Accepted'])\n",
    "data.head()"
   ]
  },
  {
   "cell_type": "code",
   "execution_count": 3,
   "metadata": {},
   "outputs": [
    {
     "data": {
      "image/png": "[encoded data removed]",
      "text/plain": [
       "<Figure size 432x288 with 1 Axes>"
      ]
     },
     "metadata": {
      "needs_background": "light"
     },
     "output_type": "display_data"
    }
   ],
   "source": [
    "fig,ax = plt.subplots()\n",
    "ax.scatter(data[data['Accepted']==0]['Exam 1'],data[data['Accepted']==0]['Exam 2'],c='r',marker='x',label='y=0')\n",
    "ax.scatter(data[data['Accepted']==1]['Exam 1'],data[data['Accepted']==1]['Exam 2'],c='b',marker='o',label='y=1')\n",
    "ax.legend()\n",
    "ax.set(xlabel='exam1',\n",
    "          ylabel='exam2')\n",
    "plt.show()"
   ]
  },
  {
   "cell_type": "code",
   "execution_count": 4,
   "metadata": {},
   "outputs": [],
   "source": [
    "def get_Xy(data):\n",
    "    \n",
    "    data.insert(0,'ones',1)\n",
    "    X_ = data.iloc[:,0:-1]\n",
    "    X = X_.values\n",
    "    \n",
    "    y_ = data.iloc[:,-1]\n",
    "    y = y_.values.reshape(len(y_),1)\n",
    "    \n",
    "    return X,y"
   ]
  },
  {
   "cell_type": "code",
   "execution_count": 5,
   "metadata": {},
   "outputs": [],
   "source": [
    "X,y = get_Xy(data)"
   ]
  },
  {
   "cell_type": "code",
   "execution_count": 6,
   "metadata": {},
   "outputs": [
    {
     "data": {
      "text/plain": [
       "(100, 3)"
      ]
     },
     "execution_count": 6,
     "metadata": {},
     "output_type": "execute_result"
    }
   ],
   "source": [
    "X.shape"
   ]
  },
  {
   "cell_type": "code",
   "execution_count": 7,
   "metadata": {},
   "outputs": [
    {
     "data": {
      "text/plain": [
       "(100, 1)"
      ]
     },
     "execution_count": 7,
     "metadata": {},
     "output_type": "execute_result"
    }
   ],
   "source": [
    "y.shape"
   ]
  },
  {
   "cell_type": "code",
   "execution_count": 8,
   "metadata": {},
   "outputs": [],
   "source": [
    "def sigmoid(z):\n",
    "    \n",
    "    return 1 / (1 + np.exp(-z))"
   ]
  },
  {
   "cell_type": "code",
   "execution_count": 9,
   "metadata": {},
   "outputs": [],
   "source": [
    "def costFunction(X,y,theta):\n",
    "    \n",
    "    A = sigmoid(X@theta)\n",
    "    \n",
    "    first = y * np.log(A)\n",
    "    second = (1-y) * np.log(1-A)\n",
    "    \n",
    "    return -np.sum(first + second) / len(X)"
   ]
  },
  {
   "cell_type": "markdown",
   "metadata": {},
   "source": [
    "L2 loss"
   ]
  },
  {
   "cell_type": "code",
   "execution_count": 10,
   "metadata": {},
   "outputs": [
    {
     "data": {
      "text/plain": [
       "(3, 1)"
      ]
     },
     "execution_count": 10,
     "metadata": {},
     "output_type": "execute_result"
    }
   ],
   "source": [
    "theta = np.zeros((3,1))\n",
    "theta.shape"
   ]
  },
  {
   "cell_type": "code",
   "execution_count": 11,
   "metadata": {
    "scrolled": true
   },
   "outputs": [
    {
     "name": "stdout",
     "output_type": "stream",
     "text": [
      "0.6931471805599453\n"
     ]
    }
   ],
   "source": [
    "cost_init = costFunction(X,y,theta)\n",
    "print(cost_init)"
   ]
  },
  {
   "cell_type": "code",
   "execution_count": 12,
   "metadata": {},
   "outputs": [],
   "source": [
    "def gradientDescent(X,y,theta,iters,alpha):\n",
    "    m = len(X)\n",
    "    costs = []\n",
    "    \n",
    "    for i in range(iters):\n",
    "        A = sigmoid(X@theta)\n",
    "        theta  = theta -(alpha/m)  * X.T @ (A - y)\n",
    "        cost = costFunction(X,y,theta)\n",
    "        costs.append(cost)\n",
    "        if i % 1000 == 0:\n",
    "            print(cost)\n",
    "    return costs, theta"
   ]
  },
  {
   "cell_type": "code",
   "execution_count": 13,
   "metadata": {},
   "outputs": [],
   "source": [
    "alpha = 0.004\n",
    "iters=200000"
   ]
  },
  {
   "cell_type": "code",
   "execution_count": 14,
   "metadata": {},
   "outputs": [
    {
     "name": "stdout",
     "output_type": "stream",
     "text": [
      "1.9886538578930084\n",
      "3.0781700198641557\n",
      "5.487009635362496\n",
      "1.8519433661332647\n",
      "2.955128942408359\n",
      "5.438688730769618\n",
      "1.8046128090728513\n",
      "2.8312715776074056\n",
      "5.3886531633606145\n",
      "1.756153811712156\n",
      "2.7066763807478127\n",
      "5.3365673644957425\n",
      "1.7062807047694801\n",
      "2.5818508519054273\n",
      "5.281774101800353\n",
      "1.6544129958512053\n",
      "2.457843094743575\n",
      "5.223255119969365\n",
      "1.5996612097145546\n",
      "2.3362477519414626\n",
      "5.159653459570274\n",
      "1.5408871901849082\n",
      "2.2190492038468888\n",
      "5.089387088751128\n",
      "1.4768567851081469\n",
      "2.1082685090536497\n",
      "5.010845104587983\n",
      "1.4064493632805855\n",
      "2.005433890383271\n",
      "4.9225734611717336\n",
      "1.3288041261254437\n",
      "1.9109646054893665\n",
      "4.82325748482661\n",
      "1.243220225097169\n",
      "1.8235866121521405\n",
      "4.711246821296763\n",
      "1.1486277932139568\n",
      "1.7397667362447993\n",
      "4.5832574004573505\n",
      "1.0423478306006684\n",
      "1.6525865746034032\n",
      "4.430932868329269\n",
      "0.9166267386002196\n",
      "1.5465331276550862\n",
      "4.224624720512682\n",
      "0.7330944584991168\n",
      "1.453494463115446\n",
      "3.6099185491269976\n",
      "3.831606666839808\n",
      "1.1718258712790515\n",
      "0.334478044895226\n",
      "1.6078416216802416\n",
      "0.741586759654691\n",
      "0.2714117345847905\n",
      "0.290143802314594\n",
      "1.0411159360088698\n",
      "1.0035437548762511\n",
      "2.619923350300235\n",
      "0.4061670429886676\n",
      "0.23344465659929914\n",
      "0.8401579263488419\n",
      "0.8583964468903994\n",
      "3.0602809825499433\n",
      "0.44028140659651727\n",
      "1.1932722349525562\n",
      "0.3319285599259916\n",
      "0.6585288447640747\n",
      "0.2256714393042239\n",
      "0.2246388216235459\n",
      "0.229265281744285\n",
      "0.9593734096464135\n",
      "0.3806079592039256\n",
      "0.8813259971860016\n",
      "0.3987569824429813\n",
      "0.6247983316121748\n",
      "0.37618942490964374\n",
      "0.8942246128978614\n",
      "0.5866355115668503\n",
      "0.3331866481479848\n",
      "0.4640252095454867\n",
      "0.3227041012186722\n",
      "0.32679537880565435\n",
      "0.33920551463995274\n",
      "0.3580349467069087\n",
      "0.38389202570477393\n",
      "0.3934979937715527\n",
      "0.404032133031205\n",
      "0.41566590307234974\n",
      "0.4286326567037246\n",
      "0.4432663747005132\n",
      "0.46007956427143226\n",
      "0.47994390052991037\n",
      "0.5046108693774396\n",
      "0.5389098950879739\n",
      "0.5948362367310513\n",
      "0.5970713512726188\n",
      "0.5951313959593297\n",
      "0.5930756777777983\n",
      "0.5909040798701036\n",
      "0.5886168792812143\n",
      "0.5862147537785243\n",
      "0.5836987849027259\n",
      "0.5810704568187244\n",
      "0.57833165060292\n",
      "0.5754846337053956\n",
      "0.5725320444545265\n",
      "0.5694768716228488\n",
      "0.5663224292391327\n",
      "0.5630723270041207\n",
      "0.5597304368352704\n",
      "0.5563008562186095\n",
      "0.5527878691726752\n",
      "0.549195905721886\n",
      "0.5455295008280934\n",
      "0.5417932537360381\n",
      "0.5379917886514616\n",
      "0.5341297175929154\n",
      "0.5302116061463411\n",
      "0.5262419427137628\n",
      "0.5222251116937398\n",
      "0.5181653708713927\n",
      "0.514066833139401\n",
      "0.5099334525262611\n",
      "0.5057690143806173\n",
      "0.5015771294546336\n",
      "0.49736123154759904\n",
      "0.49312457831320317\n",
      "0.48887025479930346\n",
      "0.4846011792751417\n",
      "0.4803201109045665\n",
      "0.47602965884191434\n",
      "0.47173229235591874\n",
      "0.4674303516233986\n",
      "0.4631260588754717\n",
      "0.4588215296220772\n",
      "0.4545187837238073\n",
      "0.4502197561219549\n",
      "0.4459263070766816\n",
      "0.44164023179929257\n",
      "0.43736326939646203\n",
      "0.43309711107262444\n",
      "0.4288434075604479\n",
      "0.42460377576964453\n",
      "0.4203798046607428\n",
      "0.4161730603631857\n",
      "0.411985090566997\n",
      "0.4078174282239081\n",
      "0.4036715945982533\n",
      "0.39954910170975255\n",
      "0.39545145421033845\n",
      "0.39138015073568366\n",
      "0.3873366847688022\n",
      "0.3833225450494014\n",
      "0.3793392155575824\n",
      "0.37538817509544486\n",
      "0.3714708964847359\n",
      "0.36758884539357006\n",
      "0.36374347880051117\n",
      "0.35993624310049865\n",
      "0.35616857185416656\n",
      "0.3524418831806119\n",
      "0.34875757679357894\n",
      "0.3451170306826761\n",
      "0.34152159744457544\n",
      "0.33797260027424075\n",
      "0.33447132863304374\n",
      "0.33101903361885787\n",
      "0.32761692307292734\n",
      "0.3242661564685019\n",
      "0.32096783963724784\n",
      "0.31772301939998754\n",
      "0.3145326781784118\n",
      "0.3113977286730317\n",
      "0.3083190086993832\n",
      "0.3052972762788476\n",
      "0.3023332050818348\n",
      "0.2994273803192914\n",
      "0.29658029517346557\n",
      "0.29379234785020975\n",
      "0.29106383932364577\n",
      "0.2883949718298337\n",
      "0.28578584814943686\n",
      "0.28323647170161176\n",
      "0.28074674745268746\n",
      "0.27831648362467415\n",
      "0.27594539417064434\n",
      "0.2736331019684059\n",
      "0.2713791426689612\n",
      "0.269182969125549\n",
      "0.26704395631966116\n",
      "0.26496140669529517\n",
      "0.26293455580936287\n",
      "0.26096257820670443\n",
      "0.2590445934304145\n",
      "0.2571796720827234\n",
      "0.2553668418586548\n",
      "0.2536050934817517\n",
      "0.2518933864804352\n",
      "0.25023065475220585\n",
      "0.24861581187269194\n"
     ]
    }
   ],
   "source": [
    "costs,theta_final =  gradientDescent(X,y,theta,iters,alpha)"
   ]
  },
  {
   "cell_type": "code",
   "execution_count": 15,
   "metadata": {
    "scrolled": true
   },
   "outputs": [
    {
     "data": {
      "text/plain": [
       "array([[-23.77445621],\n",
       "       [  0.20684474],\n",
       "       [  0.19996049]])"
      ]
     },
     "execution_count": 15,
     "metadata": {},
     "output_type": "execute_result"
    }
   ],
   "source": [
    "theta_final"
   ]
  },
  {
   "cell_type": "code",
   "execution_count": 16,
   "metadata": {},
   "outputs": [],
   "source": [
    "def predict(X,theta):\n",
    "    \n",
    "    prob = sigmoid(X@theta)\n",
    "    \n",
    "    return [1 if x >= 0.5 else 0 for x in prob]"
   ]
  },
  {
   "cell_type": "code",
   "execution_count": 17,
   "metadata": {},
   "outputs": [
    {
     "name": "stdout",
     "output_type": "stream",
     "text": [
      "0.91\n"
     ]
    }
   ],
   "source": [
    "y_ = np.array(predict(X,theta_final))\n",
    "y_pre = y_.reshape(len(y_),1)\n",
    "\n",
    "acc  = np.mean(y_pre == y)\n",
    "\n",
    "print(acc)"
   ]
  },
  {
   "cell_type": "code",
   "execution_count": 18,
   "metadata": {},
   "outputs": [],
   "source": [
    "coef1 = - theta_final[0,0] / theta_final[2,0]\n",
    "coef2 = - theta_final[1,0] / theta_final[2,0]"
   ]
  },
  {
   "cell_type": "code",
   "execution_count": 20,
   "metadata": {},
   "outputs": [
    {
     "data": {
      "image/png": "[encoded data removed]",
      "text/plain": [
       "<Figure size 432x288 with 1 Axes>"
      ]
     },
     "metadata": {
      "needs_background": "light"
     },
     "output_type": "display_data"
    }
   ],
   "source": [
    "x = np.linspace(20,100,100)\n",
    "f = coef1 + coef2 * x\n",
    "\n",
    "fig,ax = plt.subplots()\n",
    "ax.scatter(data[data['Accepted']==0]['Exam 1'],data[data['Accepted']==0]['Exam 2'],c='r',marker='x',label='y=0')\n",
    "ax.scatter(data[data['Accepted']==1]['Exam 1'],data[data['Accepted']==1]['Exam 2'],c='b',marker='o',label='y=1')\n",
    "ax.legend()\n",
    "ax.set(xlabel='exam1',\n",
    "          ylabel='exam2')\n",
    "\n",
    "ax.plot(x,f,c='g')\n",
    "plt.show()"
   ]
  },
  {
   "cell_type": "code",
   "execution_count": null,
   "metadata": {},
   "outputs": [],
   "source": []
  }
 ],
 "metadata": {
  "kernelspec": {
   "display_name": "Python 3 (ipykernel)",
   "language": "python",
   "name": "python3"
  },
  "language_info": {
   "codemirror_mode": {
    "name": "ipython",
    "version": 3
   },
   "file_extension": ".py",
   "mimetype": "text/x-python",
   "name": "python",
   "nbconvert_exporter": "python",
   "pygments_lexer": "ipython3",
   "version": "3.8.5"
  }
 },
 "nbformat": 4,
 "nbformat_minor": 2
}
